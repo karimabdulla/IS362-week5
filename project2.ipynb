{
 "cells": [
  {
   "cell_type": "code",
   "execution_count": 1,
   "id": "7c30648b",
   "metadata": {},
   "outputs": [],
   "source": [
    "import pandas as pd"
   ]
  },
  {
   "cell_type": "code",
   "execution_count": 2,
   "id": "4cbb1e22",
   "metadata": {},
   "outputs": [],
   "source": [
    "death_rates = pd.read_csv(\"C:\\\\Users\\\\abdul\\\\Dropbox\\\\PC\\\\Desktop\\\\death_rates.csv\")\n"
   ]
  },
  {
   "cell_type": "code",
   "execution_count": 3,
   "id": "7b0cadfc",
   "metadata": {},
   "outputs": [
    {
     "data": {
      "text/html": [
       "<div>\n",
       "<style scoped>\n",
       "    .dataframe tbody tr th:only-of-type {\n",
       "        vertical-align: middle;\n",
       "    }\n",
       "\n",
       "    .dataframe tbody tr th {\n",
       "        vertical-align: top;\n",
       "    }\n",
       "\n",
       "    .dataframe thead th {\n",
       "        text-align: right;\n",
       "    }\n",
       "</style>\n",
       "<table border=\"1\" class=\"dataframe\">\n",
       "  <thead>\n",
       "    <tr style=\"text-align: right;\">\n",
       "      <th></th>\n",
       "      <th>INDICATOR</th>\n",
       "      <th>UNIT</th>\n",
       "      <th>UNIT_NUM</th>\n",
       "      <th>STUB_NAME</th>\n",
       "      <th>STUB_NAME_NUM</th>\n",
       "      <th>STUB_LABEL</th>\n",
       "      <th>STUB_LABEL_NUM</th>\n",
       "      <th>YEAR</th>\n",
       "      <th>YEAR_NUM</th>\n",
       "      <th>AGE</th>\n",
       "      <th>AGE_NUM</th>\n",
       "      <th>ESTIMATE</th>\n",
       "      <th>FLAG</th>\n",
       "    </tr>\n",
       "  </thead>\n",
       "  <tbody>\n",
       "    <tr>\n",
       "      <th>0</th>\n",
       "      <td>Death rates for suicide</td>\n",
       "      <td>Deaths per 100,000 resident population, age-ad...</td>\n",
       "      <td>1</td>\n",
       "      <td>Total</td>\n",
       "      <td>0</td>\n",
       "      <td>All persons</td>\n",
       "      <td>0.0</td>\n",
       "      <td>1950</td>\n",
       "      <td>1</td>\n",
       "      <td>All ages</td>\n",
       "      <td>0.0</td>\n",
       "      <td>13.2</td>\n",
       "      <td>NaN</td>\n",
       "    </tr>\n",
       "    <tr>\n",
       "      <th>1</th>\n",
       "      <td>Death rates for suicide</td>\n",
       "      <td>Deaths per 100,000 resident population, age-ad...</td>\n",
       "      <td>1</td>\n",
       "      <td>Total</td>\n",
       "      <td>0</td>\n",
       "      <td>All persons</td>\n",
       "      <td>0.0</td>\n",
       "      <td>1960</td>\n",
       "      <td>2</td>\n",
       "      <td>All ages</td>\n",
       "      <td>0.0</td>\n",
       "      <td>12.5</td>\n",
       "      <td>NaN</td>\n",
       "    </tr>\n",
       "    <tr>\n",
       "      <th>2</th>\n",
       "      <td>Death rates for suicide</td>\n",
       "      <td>Deaths per 100,000 resident population, age-ad...</td>\n",
       "      <td>1</td>\n",
       "      <td>Total</td>\n",
       "      <td>0</td>\n",
       "      <td>All persons</td>\n",
       "      <td>0.0</td>\n",
       "      <td>1970</td>\n",
       "      <td>3</td>\n",
       "      <td>All ages</td>\n",
       "      <td>0.0</td>\n",
       "      <td>13.1</td>\n",
       "      <td>NaN</td>\n",
       "    </tr>\n",
       "    <tr>\n",
       "      <th>3</th>\n",
       "      <td>Death rates for suicide</td>\n",
       "      <td>Deaths per 100,000 resident population, age-ad...</td>\n",
       "      <td>1</td>\n",
       "      <td>Total</td>\n",
       "      <td>0</td>\n",
       "      <td>All persons</td>\n",
       "      <td>0.0</td>\n",
       "      <td>1980</td>\n",
       "      <td>4</td>\n",
       "      <td>All ages</td>\n",
       "      <td>0.0</td>\n",
       "      <td>12.2</td>\n",
       "      <td>NaN</td>\n",
       "    </tr>\n",
       "    <tr>\n",
       "      <th>4</th>\n",
       "      <td>Death rates for suicide</td>\n",
       "      <td>Deaths per 100,000 resident population, age-ad...</td>\n",
       "      <td>1</td>\n",
       "      <td>Total</td>\n",
       "      <td>0</td>\n",
       "      <td>All persons</td>\n",
       "      <td>0.0</td>\n",
       "      <td>1981</td>\n",
       "      <td>5</td>\n",
       "      <td>All ages</td>\n",
       "      <td>0.0</td>\n",
       "      <td>12.3</td>\n",
       "      <td>NaN</td>\n",
       "    </tr>\n",
       "  </tbody>\n",
       "</table>\n",
       "</div>"
      ],
      "text/plain": [
       "                 INDICATOR                                               UNIT  \\\n",
       "0  Death rates for suicide  Deaths per 100,000 resident population, age-ad...   \n",
       "1  Death rates for suicide  Deaths per 100,000 resident population, age-ad...   \n",
       "2  Death rates for suicide  Deaths per 100,000 resident population, age-ad...   \n",
       "3  Death rates for suicide  Deaths per 100,000 resident population, age-ad...   \n",
       "4  Death rates for suicide  Deaths per 100,000 resident population, age-ad...   \n",
       "\n",
       "   UNIT_NUM STUB_NAME  STUB_NAME_NUM   STUB_LABEL  STUB_LABEL_NUM  YEAR  \\\n",
       "0         1     Total              0  All persons             0.0  1950   \n",
       "1         1     Total              0  All persons             0.0  1960   \n",
       "2         1     Total              0  All persons             0.0  1970   \n",
       "3         1     Total              0  All persons             0.0  1980   \n",
       "4         1     Total              0  All persons             0.0  1981   \n",
       "\n",
       "   YEAR_NUM       AGE  AGE_NUM  ESTIMATE FLAG  \n",
       "0         1  All ages      0.0      13.2  NaN  \n",
       "1         2  All ages      0.0      12.5  NaN  \n",
       "2         3  All ages      0.0      13.1  NaN  \n",
       "3         4  All ages      0.0      12.2  NaN  \n",
       "4         5  All ages      0.0      12.3  NaN  "
      ]
     },
     "execution_count": 3,
     "metadata": {},
     "output_type": "execute_result"
    }
   ],
   "source": [
    "# Reading the information from the CSV file into Python\n",
    "death_rates.head()"
   ]
  },
  {
   "cell_type": "code",
   "execution_count": 4,
   "id": "ac4b7f71",
   "metadata": {},
   "outputs": [
    {
     "data": {
      "text/plain": [
       "(6390, 13)"
      ]
     },
     "execution_count": 4,
     "metadata": {},
     "output_type": "execute_result"
    }
   ],
   "source": [
    "death_rates.shape"
   ]
  },
  {
   "cell_type": "code",
   "execution_count": 5,
   "id": "685e562d",
   "metadata": {},
   "outputs": [
    {
     "data": {
      "text/plain": [
       "INDICATOR            0\n",
       "UNIT                 0\n",
       "UNIT_NUM             0\n",
       "STUB_NAME            0\n",
       "STUB_NAME_NUM        0\n",
       "STUB_LABEL           0\n",
       "STUB_LABEL_NUM       0\n",
       "YEAR                 0\n",
       "YEAR_NUM             0\n",
       "AGE                  0\n",
       "AGE_NUM              0\n",
       "ESTIMATE           906\n",
       "FLAG              5484\n",
       "dtype: int64"
      ]
     },
     "execution_count": 5,
     "metadata": {},
     "output_type": "execute_result"
    }
   ],
   "source": [
    "# the number of nulls in each row\n",
    "death_rates.isnull().sum()"
   ]
  },
  {
   "cell_type": "code",
   "execution_count": 6,
   "id": "d2d04e67",
   "metadata": {},
   "outputs": [
    {
     "data": {
      "text/plain": [
       "0       1950\n",
       "5874    1950\n",
       "980     1950\n",
       "2450    1950\n",
       "3038    1950\n",
       "        ... \n",
       "1105    2018\n",
       "4945    2018\n",
       "2995    2018\n",
       "1063    2018\n",
       "6389    2018\n",
       "Name: YEAR, Length: 6390, dtype: int64"
      ]
     },
     "execution_count": 6,
     "metadata": {},
     "output_type": "execute_result"
    }
   ],
   "source": [
    "death_rates.YEAR.sort_values()"
   ]
  },
  {
   "cell_type": "code",
   "execution_count": 7,
   "id": "4d3c5824",
   "metadata": {},
   "outputs": [],
   "source": [
    "%matplotlib inline"
   ]
  },
  {
   "cell_type": "code",
   "execution_count": 8,
   "id": "bb8c5919",
   "metadata": {},
   "outputs": [
    {
     "name": "stderr",
     "output_type": "stream",
     "text": [
      "C:\\Users\\abdul\\AppData\\Local\\Temp\\ipykernel_19496\\4168624326.py:2: FutureWarning: The default value of numeric_only in DataFrameGroupBy.mean is deprecated. In a future version, numeric_only will default to False. Either specify numeric_only or select only columns which should be valid for the function.\n",
      "  death_rates.groupby('YEAR').mean().plot(kind='bar')\n"
     ]
    },
    {
     "data": {
      "text/plain": [
       "<Axes: xlabel='YEAR'>"
      ]
     },
     "execution_count": 8,
     "metadata": {},
     "output_type": "execute_result"
    },
    {
     "data": {
      "image/png": "[encoded data removed]",
      "text/plain": [
       "<Figure size 640x480 with 1 Axes>"
      ]
     },
     "metadata": {},
     "output_type": "display_data"
    }
   ],
   "source": [
    "# a bar graph to present data \n",
    "death_rates.groupby('YEAR').mean().plot(kind='bar')"
   ]
  },
  {
   "cell_type": "code",
   "execution_count": null,
   "id": "01871350",
   "metadata": {},
   "outputs": [],
   "source": []
  },
  {
   "cell_type": "code",
   "execution_count": 9,
   "id": "3d4cfb3b",
   "metadata": {},
   "outputs": [],
   "source": [
    "# Reading the information from the CSV file into Python\n",
    "import pandas as pd\n",
    "crime_data = pd.read_csv(\"C:\\\\Users\\\\abdul\\\\Dropbox\\\\PC\\\\Desktop\\\\crime_data.csv\")"
   ]
  },
  {
   "cell_type": "code",
   "execution_count": 10,
   "id": "1f808853",
   "metadata": {},
   "outputs": [
    {
     "data": {
      "text/html": [
       "<div>\n",
       "<style scoped>\n",
       "    .dataframe tbody tr th:only-of-type {\n",
       "        vertical-align: middle;\n",
       "    }\n",
       "\n",
       "    .dataframe tbody tr th {\n",
       "        vertical-align: top;\n",
       "    }\n",
       "\n",
       "    .dataframe thead th {\n",
       "        text-align: right;\n",
       "    }\n",
       "</style>\n",
       "<table border=\"1\" class=\"dataframe\">\n",
       "  <thead>\n",
       "    <tr style=\"text-align: right;\">\n",
       "      <th></th>\n",
       "      <th>DR_NO</th>\n",
       "      <th>Date Rptd</th>\n",
       "      <th>DATE OCC</th>\n",
       "      <th>TIME OCC</th>\n",
       "      <th>AREA</th>\n",
       "      <th>AREA NAME</th>\n",
       "      <th>Rpt Dist No</th>\n",
       "      <th>Part 1-2</th>\n",
       "      <th>Crm Cd</th>\n",
       "      <th>Crm Cd Desc</th>\n",
       "      <th>...</th>\n",
       "      <th>Status</th>\n",
       "      <th>Status Desc</th>\n",
       "      <th>Crm Cd 1</th>\n",
       "      <th>Crm Cd 2</th>\n",
       "      <th>Crm Cd 3</th>\n",
       "      <th>Crm Cd 4</th>\n",
       "      <th>LOCATION</th>\n",
       "      <th>Cross Street</th>\n",
       "      <th>LAT</th>\n",
       "      <th>LON</th>\n",
       "    </tr>\n",
       "  </thead>\n",
       "  <tbody>\n",
       "    <tr>\n",
       "      <th>0</th>\n",
       "      <td>10304468</td>\n",
       "      <td>01/08/2020 12:00:00 AM</td>\n",
       "      <td>01/08/2020 12:00:00 AM</td>\n",
       "      <td>2230</td>\n",
       "      <td>3</td>\n",
       "      <td>Southwest</td>\n",
       "      <td>377</td>\n",
       "      <td>2</td>\n",
       "      <td>624</td>\n",
       "      <td>BATTERY - SIMPLE ASSAULT</td>\n",
       "      <td>...</td>\n",
       "      <td>AO</td>\n",
       "      <td>Adult Other</td>\n",
       "      <td>624.0</td>\n",
       "      <td>NaN</td>\n",
       "      <td>NaN</td>\n",
       "      <td>NaN</td>\n",
       "      <td>1100 W  39TH                         PL</td>\n",
       "      <td>NaN</td>\n",
       "      <td>34.0141</td>\n",
       "      <td>-118.2978</td>\n",
       "    </tr>\n",
       "    <tr>\n",
       "      <th>1</th>\n",
       "      <td>190101086</td>\n",
       "      <td>01/02/2020 12:00:00 AM</td>\n",
       "      <td>01/01/2020 12:00:00 AM</td>\n",
       "      <td>330</td>\n",
       "      <td>1</td>\n",
       "      <td>Central</td>\n",
       "      <td>163</td>\n",
       "      <td>2</td>\n",
       "      <td>624</td>\n",
       "      <td>BATTERY - SIMPLE ASSAULT</td>\n",
       "      <td>...</td>\n",
       "      <td>IC</td>\n",
       "      <td>Invest Cont</td>\n",
       "      <td>624.0</td>\n",
       "      <td>NaN</td>\n",
       "      <td>NaN</td>\n",
       "      <td>NaN</td>\n",
       "      <td>700 S  HILL                         ST</td>\n",
       "      <td>NaN</td>\n",
       "      <td>34.0459</td>\n",
       "      <td>-118.2545</td>\n",
       "    </tr>\n",
       "    <tr>\n",
       "      <th>2</th>\n",
       "      <td>200110444</td>\n",
       "      <td>04/14/2020 12:00:00 AM</td>\n",
       "      <td>02/13/2020 12:00:00 AM</td>\n",
       "      <td>1200</td>\n",
       "      <td>1</td>\n",
       "      <td>Central</td>\n",
       "      <td>155</td>\n",
       "      <td>2</td>\n",
       "      <td>845</td>\n",
       "      <td>SEX OFFENDER REGISTRANT OUT OF COMPLIANCE</td>\n",
       "      <td>...</td>\n",
       "      <td>AA</td>\n",
       "      <td>Adult Arrest</td>\n",
       "      <td>845.0</td>\n",
       "      <td>NaN</td>\n",
       "      <td>NaN</td>\n",
       "      <td>NaN</td>\n",
       "      <td>200 E  6TH                          ST</td>\n",
       "      <td>NaN</td>\n",
       "      <td>34.0448</td>\n",
       "      <td>-118.2474</td>\n",
       "    </tr>\n",
       "    <tr>\n",
       "      <th>3</th>\n",
       "      <td>191501505</td>\n",
       "      <td>01/01/2020 12:00:00 AM</td>\n",
       "      <td>01/01/2020 12:00:00 AM</td>\n",
       "      <td>1730</td>\n",
       "      <td>15</td>\n",
       "      <td>N Hollywood</td>\n",
       "      <td>1543</td>\n",
       "      <td>2</td>\n",
       "      <td>745</td>\n",
       "      <td>VANDALISM - MISDEAMEANOR ($399 OR UNDER)</td>\n",
       "      <td>...</td>\n",
       "      <td>IC</td>\n",
       "      <td>Invest Cont</td>\n",
       "      <td>745.0</td>\n",
       "      <td>998.0</td>\n",
       "      <td>NaN</td>\n",
       "      <td>NaN</td>\n",
       "      <td>5400    CORTEEN                      PL</td>\n",
       "      <td>NaN</td>\n",
       "      <td>34.1685</td>\n",
       "      <td>-118.4019</td>\n",
       "    </tr>\n",
       "    <tr>\n",
       "      <th>4</th>\n",
       "      <td>191921269</td>\n",
       "      <td>01/01/2020 12:00:00 AM</td>\n",
       "      <td>01/01/2020 12:00:00 AM</td>\n",
       "      <td>415</td>\n",
       "      <td>19</td>\n",
       "      <td>Mission</td>\n",
       "      <td>1998</td>\n",
       "      <td>2</td>\n",
       "      <td>740</td>\n",
       "      <td>VANDALISM - FELONY ($400 &amp; OVER, ALL CHURCH VA...</td>\n",
       "      <td>...</td>\n",
       "      <td>IC</td>\n",
       "      <td>Invest Cont</td>\n",
       "      <td>740.0</td>\n",
       "      <td>NaN</td>\n",
       "      <td>NaN</td>\n",
       "      <td>NaN</td>\n",
       "      <td>14400    TITUS                        ST</td>\n",
       "      <td>NaN</td>\n",
       "      <td>34.2198</td>\n",
       "      <td>-118.4468</td>\n",
       "    </tr>\n",
       "  </tbody>\n",
       "</table>\n",
       "<p>5 rows × 28 columns</p>\n",
       "</div>"
      ],
      "text/plain": [
       "       DR_NO               Date Rptd                DATE OCC  TIME OCC  AREA  \\\n",
       "0   10304468  01/08/2020 12:00:00 AM  01/08/2020 12:00:00 AM      2230     3   \n",
       "1  190101086  01/02/2020 12:00:00 AM  01/01/2020 12:00:00 AM       330     1   \n",
       "2  200110444  04/14/2020 12:00:00 AM  02/13/2020 12:00:00 AM      1200     1   \n",
       "3  191501505  01/01/2020 12:00:00 AM  01/01/2020 12:00:00 AM      1730    15   \n",
       "4  191921269  01/01/2020 12:00:00 AM  01/01/2020 12:00:00 AM       415    19   \n",
       "\n",
       "     AREA NAME  Rpt Dist No  Part 1-2  Crm Cd  \\\n",
       "0    Southwest          377         2     624   \n",
       "1      Central          163         2     624   \n",
       "2      Central          155         2     845   \n",
       "3  N Hollywood         1543         2     745   \n",
       "4      Mission         1998         2     740   \n",
       "\n",
       "                                         Crm Cd Desc  ... Status  \\\n",
       "0                           BATTERY - SIMPLE ASSAULT  ...     AO   \n",
       "1                           BATTERY - SIMPLE ASSAULT  ...     IC   \n",
       "2          SEX OFFENDER REGISTRANT OUT OF COMPLIANCE  ...     AA   \n",
       "3           VANDALISM - MISDEAMEANOR ($399 OR UNDER)  ...     IC   \n",
       "4  VANDALISM - FELONY ($400 & OVER, ALL CHURCH VA...  ...     IC   \n",
       "\n",
       "    Status Desc Crm Cd 1 Crm Cd 2  Crm Cd 3 Crm Cd 4  \\\n",
       "0   Adult Other    624.0      NaN       NaN      NaN   \n",
       "1   Invest Cont    624.0      NaN       NaN      NaN   \n",
       "2  Adult Arrest    845.0      NaN       NaN      NaN   \n",
       "3   Invest Cont    745.0    998.0       NaN      NaN   \n",
       "4   Invest Cont    740.0      NaN       NaN      NaN   \n",
       "\n",
       "                                   LOCATION Cross Street      LAT       LON  \n",
       "0   1100 W  39TH                         PL          NaN  34.0141 -118.2978  \n",
       "1    700 S  HILL                         ST          NaN  34.0459 -118.2545  \n",
       "2    200 E  6TH                          ST          NaN  34.0448 -118.2474  \n",
       "3   5400    CORTEEN                      PL          NaN  34.1685 -118.4019  \n",
       "4  14400    TITUS                        ST          NaN  34.2198 -118.4468  \n",
       "\n",
       "[5 rows x 28 columns]"
      ]
     },
     "execution_count": 10,
     "metadata": {},
     "output_type": "execute_result"
    }
   ],
   "source": [
    "crime_data.head()"
   ]
  },
  {
   "cell_type": "code",
   "execution_count": 11,
   "id": "aeb599bd",
   "metadata": {},
   "outputs": [
    {
     "data": {
      "text/plain": [
       "(807377, 28)"
      ]
     },
     "execution_count": 11,
     "metadata": {},
     "output_type": "execute_result"
    }
   ],
   "source": [
    "crime_data.shape\n"
   ]
  },
  {
   "cell_type": "code",
   "execution_count": 12,
   "id": "37493aeb",
   "metadata": {},
   "outputs": [
    {
     "data": {
      "text/plain": [
       "DR_NO                  0\n",
       "Date Rptd              0\n",
       "DATE OCC               0\n",
       "TIME OCC               0\n",
       "AREA                   0\n",
       "AREA NAME              0\n",
       "Rpt Dist No            0\n",
       "Part 1-2               0\n",
       "Crm Cd                 0\n",
       "Crm Cd Desc            0\n",
       "Mocodes           111367\n",
       "Vict Age               0\n",
       "Vict Sex          105909\n",
       "Vict Descent      105917\n",
       "Premis Cd              9\n",
       "Premis Desc          476\n",
       "Weapon Used Cd    526203\n",
       "Weapon Desc       526203\n",
       "Status                 0\n",
       "Status Desc            0\n",
       "Crm Cd 1              10\n",
       "Crm Cd 2          747894\n",
       "Crm Cd 3          805390\n",
       "Crm Cd 4          807319\n",
       "LOCATION               0\n",
       "Cross Street      678145\n",
       "LAT                    0\n",
       "LON                    0\n",
       "dtype: int64"
      ]
     },
     "execution_count": 12,
     "metadata": {},
     "output_type": "execute_result"
    }
   ],
   "source": [
    "# the number of nulls in each row\n",
    "crime_data.isnull().sum()"
   ]
  },
  {
   "cell_type": "code",
   "execution_count": 13,
   "id": "ffc803e3",
   "metadata": {},
   "outputs": [
    {
     "data": {
      "text/plain": [
       "512986                               00    17TH\n",
       "368557    00    17TH                         AV\n",
       "127786    00    17TH                         AV\n",
       "300675    00    17TH                         AV\n",
       "293390    00    17TH                         AV\n",
       "                          ...                  \n",
       "406509          ZOO                          DR\n",
       "94592           ZOO                          DR\n",
       "343561          ZOO                          DR\n",
       "329228          ZOO                          DR\n",
       "222993          ZOO                          DR\n",
       "Name: LOCATION, Length: 807377, dtype: object"
      ]
     },
     "execution_count": 13,
     "metadata": {},
     "output_type": "execute_result"
    }
   ],
   "source": [
    "# crimes grouped by location\n",
    "crime_data.LOCATION.sort_values()"
   ]
  },
  {
   "cell_type": "code",
   "execution_count": null,
   "id": "277195ca",
   "metadata": {},
   "outputs": [],
   "source": []
  },
  {
   "cell_type": "code",
   "execution_count": 14,
   "id": "e55f238e",
   "metadata": {},
   "outputs": [
    {
     "data": {
      "text/html": [
       "<div>\n",
       "<style scoped>\n",
       "    .dataframe tbody tr th:only-of-type {\n",
       "        vertical-align: middle;\n",
       "    }\n",
       "\n",
       "    .dataframe tbody tr th {\n",
       "        vertical-align: top;\n",
       "    }\n",
       "\n",
       "    .dataframe thead th {\n",
       "        text-align: right;\n",
       "    }\n",
       "</style>\n",
       "<table border=\"1\" class=\"dataframe\">\n",
       "  <thead>\n",
       "    <tr style=\"text-align: right;\">\n",
       "      <th></th>\n",
       "      <th>VIN (1-10)</th>\n",
       "      <th>County</th>\n",
       "      <th>City</th>\n",
       "      <th>State</th>\n",
       "      <th>Postal Code</th>\n",
       "      <th>Model Year</th>\n",
       "      <th>Make</th>\n",
       "      <th>Model</th>\n",
       "      <th>Electric Vehicle Type</th>\n",
       "      <th>Clean Alternative Fuel Vehicle (CAFV) Eligibility</th>\n",
       "      <th>Electric Range</th>\n",
       "      <th>Base MSRP</th>\n",
       "      <th>Legislative District</th>\n",
       "      <th>DOL Vehicle ID</th>\n",
       "      <th>Vehicle Location</th>\n",
       "      <th>Electric Utility</th>\n",
       "      <th>2020 Census Tract</th>\n",
       "    </tr>\n",
       "  </thead>\n",
       "  <tbody>\n",
       "    <tr>\n",
       "      <th>0</th>\n",
       "      <td>KM8K33AGXL</td>\n",
       "      <td>King</td>\n",
       "      <td>Seattle</td>\n",
       "      <td>WA</td>\n",
       "      <td>98103.0</td>\n",
       "      <td>2020</td>\n",
       "      <td>HYUNDAI</td>\n",
       "      <td>KONA</td>\n",
       "      <td>Battery Electric Vehicle (BEV)</td>\n",
       "      <td>Clean Alternative Fuel Vehicle Eligible</td>\n",
       "      <td>258</td>\n",
       "      <td>0</td>\n",
       "      <td>43.0</td>\n",
       "      <td>249675142</td>\n",
       "      <td>POINT (-122.34301 47.659185)</td>\n",
       "      <td>CITY OF SEATTLE - (WA)|CITY OF TACOMA - (WA)</td>\n",
       "      <td>5.303300e+10</td>\n",
       "    </tr>\n",
       "    <tr>\n",
       "      <th>1</th>\n",
       "      <td>1C4RJYB61N</td>\n",
       "      <td>King</td>\n",
       "      <td>Bothell</td>\n",
       "      <td>WA</td>\n",
       "      <td>98011.0</td>\n",
       "      <td>2022</td>\n",
       "      <td>JEEP</td>\n",
       "      <td>GRAND CHEROKEE</td>\n",
       "      <td>Plug-in Hybrid Electric Vehicle (PHEV)</td>\n",
       "      <td>Not eligible due to low battery range</td>\n",
       "      <td>25</td>\n",
       "      <td>0</td>\n",
       "      <td>1.0</td>\n",
       "      <td>233928502</td>\n",
       "      <td>POINT (-122.20578 47.762405)</td>\n",
       "      <td>PUGET SOUND ENERGY INC||CITY OF TACOMA - (WA)</td>\n",
       "      <td>5.303302e+10</td>\n",
       "    </tr>\n",
       "    <tr>\n",
       "      <th>2</th>\n",
       "      <td>1C4RJYD61P</td>\n",
       "      <td>Yakima</td>\n",
       "      <td>Yakima</td>\n",
       "      <td>WA</td>\n",
       "      <td>98908.0</td>\n",
       "      <td>2023</td>\n",
       "      <td>JEEP</td>\n",
       "      <td>GRAND CHEROKEE</td>\n",
       "      <td>Plug-in Hybrid Electric Vehicle (PHEV)</td>\n",
       "      <td>Not eligible due to low battery range</td>\n",
       "      <td>25</td>\n",
       "      <td>0</td>\n",
       "      <td>14.0</td>\n",
       "      <td>229675939</td>\n",
       "      <td>POINT (-120.6027202 46.5965625)</td>\n",
       "      <td>PACIFICORP</td>\n",
       "      <td>5.307700e+10</td>\n",
       "    </tr>\n",
       "    <tr>\n",
       "      <th>3</th>\n",
       "      <td>5YJ3E1EA7J</td>\n",
       "      <td>King</td>\n",
       "      <td>Kirkland</td>\n",
       "      <td>WA</td>\n",
       "      <td>98034.0</td>\n",
       "      <td>2018</td>\n",
       "      <td>TESLA</td>\n",
       "      <td>MODEL 3</td>\n",
       "      <td>Battery Electric Vehicle (BEV)</td>\n",
       "      <td>Clean Alternative Fuel Vehicle Eligible</td>\n",
       "      <td>215</td>\n",
       "      <td>0</td>\n",
       "      <td>45.0</td>\n",
       "      <td>104714466</td>\n",
       "      <td>POINT (-122.209285 47.71124)</td>\n",
       "      <td>PUGET SOUND ENERGY INC||CITY OF TACOMA - (WA)</td>\n",
       "      <td>5.303302e+10</td>\n",
       "    </tr>\n",
       "    <tr>\n",
       "      <th>4</th>\n",
       "      <td>WBY7Z8C5XJ</td>\n",
       "      <td>Thurston</td>\n",
       "      <td>Olympia</td>\n",
       "      <td>WA</td>\n",
       "      <td>98501.0</td>\n",
       "      <td>2018</td>\n",
       "      <td>BMW</td>\n",
       "      <td>I3</td>\n",
       "      <td>Plug-in Hybrid Electric Vehicle (PHEV)</td>\n",
       "      <td>Clean Alternative Fuel Vehicle Eligible</td>\n",
       "      <td>97</td>\n",
       "      <td>0</td>\n",
       "      <td>22.0</td>\n",
       "      <td>185498386</td>\n",
       "      <td>POINT (-122.89692 47.043535)</td>\n",
       "      <td>PUGET SOUND ENERGY INC</td>\n",
       "      <td>5.306701e+10</td>\n",
       "    </tr>\n",
       "  </tbody>\n",
       "</table>\n",
       "</div>"
      ],
      "text/plain": [
       "   VIN (1-10)    County      City State  Postal Code  Model Year     Make  \\\n",
       "0  KM8K33AGXL      King   Seattle    WA      98103.0        2020  HYUNDAI   \n",
       "1  1C4RJYB61N      King   Bothell    WA      98011.0        2022     JEEP   \n",
       "2  1C4RJYD61P    Yakima    Yakima    WA      98908.0        2023     JEEP   \n",
       "3  5YJ3E1EA7J      King  Kirkland    WA      98034.0        2018    TESLA   \n",
       "4  WBY7Z8C5XJ  Thurston   Olympia    WA      98501.0        2018      BMW   \n",
       "\n",
       "            Model                   Electric Vehicle Type  \\\n",
       "0            KONA          Battery Electric Vehicle (BEV)   \n",
       "1  GRAND CHEROKEE  Plug-in Hybrid Electric Vehicle (PHEV)   \n",
       "2  GRAND CHEROKEE  Plug-in Hybrid Electric Vehicle (PHEV)   \n",
       "3         MODEL 3          Battery Electric Vehicle (BEV)   \n",
       "4              I3  Plug-in Hybrid Electric Vehicle (PHEV)   \n",
       "\n",
       "  Clean Alternative Fuel Vehicle (CAFV) Eligibility  Electric Range  \\\n",
       "0           Clean Alternative Fuel Vehicle Eligible             258   \n",
       "1             Not eligible due to low battery range              25   \n",
       "2             Not eligible due to low battery range              25   \n",
       "3           Clean Alternative Fuel Vehicle Eligible             215   \n",
       "4           Clean Alternative Fuel Vehicle Eligible              97   \n",
       "\n",
       "   Base MSRP  Legislative District  DOL Vehicle ID  \\\n",
       "0          0                  43.0       249675142   \n",
       "1          0                   1.0       233928502   \n",
       "2          0                  14.0       229675939   \n",
       "3          0                  45.0       104714466   \n",
       "4          0                  22.0       185498386   \n",
       "\n",
       "                  Vehicle Location  \\\n",
       "0     POINT (-122.34301 47.659185)   \n",
       "1     POINT (-122.20578 47.762405)   \n",
       "2  POINT (-120.6027202 46.5965625)   \n",
       "3     POINT (-122.209285 47.71124)   \n",
       "4     POINT (-122.89692 47.043535)   \n",
       "\n",
       "                                Electric Utility  2020 Census Tract  \n",
       "0   CITY OF SEATTLE - (WA)|CITY OF TACOMA - (WA)       5.303300e+10  \n",
       "1  PUGET SOUND ENERGY INC||CITY OF TACOMA - (WA)       5.303302e+10  \n",
       "2                                     PACIFICORP       5.307700e+10  \n",
       "3  PUGET SOUND ENERGY INC||CITY OF TACOMA - (WA)       5.303302e+10  \n",
       "4                         PUGET SOUND ENERGY INC       5.306701e+10  "
      ]
     },
     "execution_count": 14,
     "metadata": {},
     "output_type": "execute_result"
    }
   ],
   "source": [
    "# Reading the information from the CSV file into Python\n",
    "import pandas as pd\n",
    "electric_v = pd.read_csv(\"C:\\\\Users\\\\abdul\\\\Dropbox\\\\PC\\\\Desktop\\\\electric_v.csv\")\n",
    "electric_v.head()"
   ]
  },
  {
   "cell_type": "code",
   "execution_count": 15,
   "id": "522ee7bb",
   "metadata": {},
   "outputs": [
    {
     "data": {
      "text/plain": [
       "(150482, 17)"
      ]
     },
     "execution_count": 15,
     "metadata": {},
     "output_type": "execute_result"
    }
   ],
   "source": [
    "electric_v.shape"
   ]
  },
  {
   "cell_type": "code",
   "execution_count": 16,
   "id": "5d8fde9e",
   "metadata": {},
   "outputs": [
    {
     "data": {
      "text/plain": [
       "VIN (1-10)                                             0\n",
       "County                                                 3\n",
       "City                                                   3\n",
       "State                                                  0\n",
       "Postal Code                                            3\n",
       "Model Year                                             0\n",
       "Make                                                   0\n",
       "Model                                                  0\n",
       "Electric Vehicle Type                                  0\n",
       "Clean Alternative Fuel Vehicle (CAFV) Eligibility      0\n",
       "Electric Range                                         0\n",
       "Base MSRP                                              0\n",
       "Legislative District                                 341\n",
       "DOL Vehicle ID                                         0\n",
       "Vehicle Location                                       7\n",
       "Electric Utility                                       3\n",
       "2020 Census Tract                                      3\n",
       "dtype: int64"
      ]
     },
     "execution_count": 16,
     "metadata": {},
     "output_type": "execute_result"
    }
   ],
   "source": [
    "# the number of nulls in each row\n",
    "electric_v.isnull().sum()"
   ]
  },
  {
   "cell_type": "code",
   "execution_count": 19,
   "id": "11841e37",
   "metadata": {},
   "outputs": [
    {
     "name": "stderr",
     "output_type": "stream",
     "text": [
      "C:\\Users\\abdul\\AppData\\Local\\Temp\\ipykernel_19496\\2837563194.py:1: FutureWarning: The default value of numeric_only in DataFrameGroupBy.mean is deprecated. In a future version, numeric_only will default to False. Either specify numeric_only or select only columns which should be valid for the function.\n",
      "  electric_v.groupby('Make').mean().plot(kind='bar')\n"
     ]
    },
    {
     "data": {
      "text/plain": [
       "<Axes: xlabel='Make'>"
      ]
     },
     "execution_count": 19,
     "metadata": {},
     "output_type": "execute_result"
    },
    {
     "data": {
      "image/png": "[encoded data removed]",
      "text/plain": [
       "<Figure size 640x480 with 1 Axes>"
      ]
     },
     "metadata": {},
     "output_type": "display_data"
    }
   ],
   "source": [
    "electric_v.groupby('Make').mean().plot(kind='bar')\n",
    "\n"
   ]
  },
  {
   "cell_type": "code",
   "execution_count": null,
   "id": "a1413992",
   "metadata": {},
   "outputs": [],
   "source": []
  }
 ],
 "metadata": {
  "kernelspec": {
   "display_name": "Python 3 (ipykernel)",
   "language": "python",
   "name": "python3"
  },
  "language_info": {
   "codemirror_mode": {
    "name": "ipython",
    "version": 3
   },
   "file_extension": ".py",
   "mimetype": "text/x-python",
   "name": "python",
   "nbconvert_exporter": "python",
   "pygments_lexer": "ipython3",
   "version": "3.11.4"
  }
 },
 "nbformat": 4,
 "nbformat_minor": 5
}
